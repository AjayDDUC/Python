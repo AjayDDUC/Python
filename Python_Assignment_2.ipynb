{
  "nbformat": 4,
  "nbformat_minor": 0,
  "metadata": {
    "colab": {
      "name": "Python_Assignment_2.ipynb",
      "provenance": [],
      "collapsed_sections": []
    },
    "kernelspec": {
      "name": "python3",
      "display_name": "Python 3"
    }
  },
  "cells": [
    {
      "cell_type": "markdown",
      "metadata": {
        "id": "1uH3F59LPvwf",
        "colab_type": "text"
      },
      "source": [
        "1. Create the below pattern using nested for loop in Python.\n",
        "\n"
      ]
    },
    {
      "cell_type": "code",
      "metadata": {
        "id": "XmNBOKHvJKJI",
        "colab_type": "code",
        "colab": {
          "base_uri": "https://localhost:8080/",
          "height": 170
        },
        "outputId": "3cdf31c5-0f13-4d89-e10f-c1a4051f12aa"
      },
      "source": [
        "def star_Pattern():\n",
        "  k=0\n",
        "  for i in range(0,9):\n",
        "    if i<=4:\n",
        "      k=k+1 \n",
        "    else:\n",
        "      k=k-1\n",
        "    for j in range(0,k):\n",
        "      if j<=k:\n",
        "        print(\"*\",end=\"\")\n",
        "    print(\"\")\n",
        "\n",
        "star_Pattern()"
      ],
      "execution_count": null,
      "outputs": [
        {
          "output_type": "stream",
          "text": [
            "*\n",
            "**\n",
            "***\n",
            "****\n",
            "*****\n",
            "****\n",
            "***\n",
            "**\n",
            "*\n"
          ],
          "name": "stdout"
        }
      ]
    },
    {
      "cell_type": "markdown",
      "metadata": {
        "id": "DsiP3kkWPy8X",
        "colab_type": "text"
      },
      "source": [
        "2. Write a Python program to reverse a word after accepting the input from the user.\n"
      ]
    },
    {
      "cell_type": "code",
      "metadata": {
        "id": "eyMOxCsEPzHG",
        "colab_type": "code",
        "colab": {
          "base_uri": "https://localhost:8080/",
          "height": 51
        },
        "outputId": "ac4eb64c-2701-4993-999c-0a18eb474d44"
      },
      "source": [
        "word = input(\"Enter the word for reversing:\")\n",
        "word = word[::-1]\n",
        "print(\"Reverse word:\",word)"
      ],
      "execution_count": null,
      "outputs": [
        {
          "output_type": "stream",
          "text": [
            "Enter the word for reversing:INeuron\n",
            "Reverse word: norueNI\n"
          ],
          "name": "stdout"
        }
      ]
    },
    {
      "cell_type": "code",
      "metadata": {
        "id": "H6wwyhNyQfQO",
        "colab_type": "code",
        "colab": {}
      },
      "source": [
        ""
      ],
      "execution_count": null,
      "outputs": []
    }
  ]
}